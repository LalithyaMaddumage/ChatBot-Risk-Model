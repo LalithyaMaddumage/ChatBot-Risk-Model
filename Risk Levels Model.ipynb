{
 "cells": [
  {
   "cell_type": "code",
   "execution_count": 1,
   "id": "ba399a65",
   "metadata": {},
   "outputs": [
    {
     "name": "stdout",
     "output_type": "stream",
     "text": [
      "WARNING:tensorflow:From C:\\Users\\isura\\AppData\\Roaming\\Python\\Python311\\site-packages\\keras\\src\\losses.py:2976: The name tf.losses.sparse_softmax_cross_entropy is deprecated. Please use tf.compat.v1.losses.sparse_softmax_cross_entropy instead.\n",
      "\n"
     ]
    },
    {
     "name": "stderr",
     "output_type": "stream",
     "text": [
      "[nltk_data] Downloading package punkt to\n",
      "[nltk_data]     C:\\Users\\isura\\AppData\\Roaming\\nltk_data...\n",
      "[nltk_data]   Package punkt is already up-to-date!\n",
      "[nltk_data] Downloading package stopwords to\n",
      "[nltk_data]     C:\\Users\\isura\\AppData\\Roaming\\nltk_data...\n",
      "[nltk_data]   Package stopwords is already up-to-date!\n",
      "[nltk_data] Downloading package wordnet to\n",
      "[nltk_data]     C:\\Users\\isura\\AppData\\Roaming\\nltk_data...\n",
      "[nltk_data]   Package wordnet is already up-to-date!\n"
     ]
    },
    {
     "name": "stdout",
     "output_type": "stream",
     "text": [
      "Found 1188 unique tokens.\n",
      "WARNING:tensorflow:From C:\\Users\\isura\\AppData\\Roaming\\Python\\Python311\\site-packages\\keras\\src\\backend.py:873: The name tf.get_default_graph is deprecated. Please use tf.compat.v1.get_default_graph instead.\n",
      "\n"
     ]
    },
    {
     "name": "stderr",
     "output_type": "stream",
     "text": [
      "WARNING:absl:`lr` is deprecated in Keras optimizer, please use `learning_rate` or use the legacy optimizer, e.g.,tf.keras.optimizers.legacy.Adam.\n"
     ]
    },
    {
     "name": "stdout",
     "output_type": "stream",
     "text": [
      "Model: \"sequential\"\n",
      "_________________________________________________________________\n",
      " Layer (type)                Output Shape              Param #   \n",
      "=================================================================\n",
      " embedding (Embedding)       (None, 100, 128)          1280000   \n",
      "                                                                 \n",
      " spatial_dropout1d (Spatial  (None, 100, 128)          0         \n",
      " Dropout1D)                                                      \n",
      "                                                                 \n",
      " bidirectional (Bidirection  (None, 256)               263168    \n",
      " al)                                                             \n",
      "                                                                 \n",
      " dense (Dense)               (None, 64)                16448     \n",
      "                                                                 \n",
      " dropout (Dropout)           (None, 64)                0         \n",
      "                                                                 \n",
      " dense_1 (Dense)             (None, 4)                 260       \n",
      "                                                                 \n",
      "=================================================================\n",
      "Total params: 1559876 (5.95 MB)\n",
      "Trainable params: 1559876 (5.95 MB)\n",
      "Non-trainable params: 0 (0.00 Byte)\n",
      "_________________________________________________________________\n",
      "Epoch 1/20\n",
      "WARNING:tensorflow:From C:\\Users\\isura\\AppData\\Roaming\\Python\\Python311\\site-packages\\keras\\src\\utils\\tf_utils.py:492: The name tf.ragged.RaggedTensorValue is deprecated. Please use tf.compat.v1.ragged.RaggedTensorValue instead.\n",
      "\n"
     ]
    },
    {
     "name": "stderr",
     "output_type": "stream",
     "text": [
      "WARNING:tensorflow:From C:\\Users\\isura\\AppData\\Roaming\\Python\\Python311\\site-packages\\keras\\src\\utils\\tf_utils.py:492: The name tf.ragged.RaggedTensorValue is deprecated. Please use tf.compat.v1.ragged.RaggedTensorValue instead.\n",
      "\n"
     ]
    },
    {
     "name": "stdout",
     "output_type": "stream",
     "text": [
      "WARNING:tensorflow:From C:\\Users\\isura\\AppData\\Roaming\\Python\\Python311\\site-packages\\keras\\src\\engine\\base_layer_utils.py:384: The name tf.executing_eagerly_outside_functions is deprecated. Please use tf.compat.v1.executing_eagerly_outside_functions instead.\n",
      "\n"
     ]
    },
    {
     "name": "stderr",
     "output_type": "stream",
     "text": [
      "WARNING:tensorflow:From C:\\Users\\isura\\AppData\\Roaming\\Python\\Python311\\site-packages\\keras\\src\\engine\\base_layer_utils.py:384: The name tf.executing_eagerly_outside_functions is deprecated. Please use tf.compat.v1.executing_eagerly_outside_functions instead.\n",
      "\n"
     ]
    },
    {
     "name": "stdout",
     "output_type": "stream",
     "text": [
      "145/145 - 115s - loss: 1.0031 - accuracy: 0.5622 - val_loss: 0.4229 - val_accuracy: 0.8462 - 115s/epoch - 795ms/step\n",
      "Epoch 2/20\n",
      "145/145 - 96s - loss: 0.1837 - accuracy: 0.9406 - val_loss: 0.1726 - val_accuracy: 0.9558 - 96s/epoch - 659ms/step\n",
      "Epoch 3/20\n",
      "145/145 - 108s - loss: 0.0722 - accuracy: 0.9819 - val_loss: 0.1421 - val_accuracy: 0.9715 - 108s/epoch - 744ms/step\n",
      "Epoch 4/20\n",
      "145/145 - 91s - loss: 0.0417 - accuracy: 0.9881 - val_loss: 0.1608 - val_accuracy: 0.9729 - 91s/epoch - 628ms/step\n",
      "Epoch 5/20\n",
      "145/145 - 95s - loss: 0.0311 - accuracy: 0.9903 - val_loss: 0.1468 - val_accuracy: 0.9758 - 95s/epoch - 658ms/step\n",
      "Epoch 6/20\n",
      "145/145 - 92s - loss: 0.0225 - accuracy: 0.9931 - val_loss: 0.1550 - val_accuracy: 0.9786 - 92s/epoch - 637ms/step\n",
      "Epoch 7/20\n",
      "145/145 - 89s - loss: 0.0265 - accuracy: 0.9922 - val_loss: 0.1456 - val_accuracy: 0.9815 - 89s/epoch - 612ms/step\n",
      "Epoch 8/20\n",
      "145/145 - 87s - loss: 0.0213 - accuracy: 0.9933 - val_loss: 0.1390 - val_accuracy: 0.9801 - 87s/epoch - 601ms/step\n",
      "Epoch 9/20\n",
      "145/145 - 93s - loss: 0.0154 - accuracy: 0.9953 - val_loss: 0.1600 - val_accuracy: 0.9872 - 93s/epoch - 644ms/step\n",
      "Epoch 10/20\n",
      "145/145 - 86s - loss: 0.0237 - accuracy: 0.9914 - val_loss: 0.1562 - val_accuracy: 0.9843 - 86s/epoch - 596ms/step\n",
      "Epoch 11/20\n",
      "145/145 - 87s - loss: 0.0163 - accuracy: 0.9940 - val_loss: 0.1440 - val_accuracy: 0.9815 - 87s/epoch - 597ms/step\n",
      "Epoch 12/20\n",
      "145/145 - 93s - loss: 0.0258 - accuracy: 0.9927 - val_loss: 0.1774 - val_accuracy: 0.9801 - 93s/epoch - 640ms/step\n",
      "Epoch 13/20\n",
      "145/145 - 86s - loss: 0.0147 - accuracy: 0.9948 - val_loss: 0.1763 - val_accuracy: 0.9772 - 86s/epoch - 594ms/step\n",
      "Epoch 14/20\n",
      "145/145 - 88s - loss: 0.0162 - accuracy: 0.9944 - val_loss: 0.1711 - val_accuracy: 0.9829 - 88s/epoch - 604ms/step\n",
      "Epoch 15/20\n",
      "145/145 - 88s - loss: 0.0136 - accuracy: 0.9946 - val_loss: 0.1585 - val_accuracy: 0.9829 - 88s/epoch - 607ms/step\n",
      "Epoch 16/20\n",
      "145/145 - 91s - loss: 0.0130 - accuracy: 0.9935 - val_loss: 0.1922 - val_accuracy: 0.9801 - 91s/epoch - 631ms/step\n",
      "Epoch 17/20\n",
      "145/145 - 96s - loss: 0.0118 - accuracy: 0.9946 - val_loss: 0.1940 - val_accuracy: 0.9801 - 96s/epoch - 662ms/step\n",
      "Epoch 18/20\n",
      "145/145 - 98s - loss: 0.0162 - accuracy: 0.9927 - val_loss: 0.1573 - val_accuracy: 0.9829 - 98s/epoch - 676ms/step\n",
      "Epoch 19/20\n",
      "145/145 - 93s - loss: 0.0122 - accuracy: 0.9944 - val_loss: 0.1792 - val_accuracy: 0.9829 - 93s/epoch - 645ms/step\n",
      "Epoch 20/20\n",
      "145/145 - 100s - loss: 0.0114 - accuracy: 0.9937 - val_loss: 0.1891 - val_accuracy: 0.9815 - 100s/epoch - 691ms/step\n",
      "22/22 [==============================] - 2s 111ms/step - loss: 0.1891 - accuracy: 0.9815\n",
      "Test Accuracy: 0.9814814925193787\n",
      "Test Loss: 0.18908251821994781\n",
      "22/22 [==============================] - 3s 81ms/step\n",
      "Classification Report:\n",
      "               precision    recall  f1-score   support\n",
      "\n",
      "           0       0.97      0.98      0.97        88\n",
      "           1       0.97      0.99      0.98       155\n",
      "           2       0.97      0.97      0.97       178\n",
      "           3       1.00      0.98      0.99       281\n",
      "\n",
      "    accuracy                           0.98       702\n",
      "   macro avg       0.98      0.98      0.98       702\n",
      "weighted avg       0.98      0.98      0.98       702\n",
      "\n"
     ]
    }
   ],
   "source": [
    "import pandas as pd\n",
    "import numpy as np\n",
    "from sklearn.model_selection import train_test_split\n",
    "from sklearn.preprocessing import LabelEncoder\n",
    "from tensorflow.keras.preprocessing.text import Tokenizer\n",
    "from tensorflow.keras.preprocessing.sequence import pad_sequences\n",
    "from tensorflow.keras.models import Sequential\n",
    "from tensorflow.keras.layers import LSTM, Dense, Embedding, SpatialDropout1D, Dropout, Bidirectional\n",
    "from tensorflow.keras.optimizers import Adam\n",
    "from tensorflow.keras.utils import to_categorical\n",
    "from sklearn.metrics import classification_report, accuracy_score\n",
    "import string\n",
    "import nltk\n",
    "from nltk.corpus import stopwords\n",
    "from nltk.tokenize import word_tokenize\n",
    "from nltk.stem import WordNetLemmatizer\n",
    "from imblearn.over_sampling import RandomOverSampler\n",
    "\n",
    "# Download NLTK resources\n",
    "nltk.download('punkt')\n",
    "nltk.download('stopwords')\n",
    "nltk.download('wordnet')\n",
    "\n",
    "# Load the data\n",
    "file_path = \"C:/Users/isura/Downloads/chatbotmodel/Dataset_risk_keywords.xlsx\"\n",
    "df = pd.read_excel(file_path)\n",
    "\n",
    "# Define preprocessing function\n",
    "def preprocess_text(text):\n",
    "    # Tokenization\n",
    "    tokens = word_tokenize(text)\n",
    "    \n",
    "    # Lowercasing and removing punctuation\n",
    "    tokens = [token.lower() for token in tokens if token.isalpha()]\n",
    "    \n",
    "    # Removing Stopwords\n",
    "    stop_words = set(stopwords.words('english'))\n",
    "    tokens = [token for token in tokens if token not in stop_words]\n",
    "    \n",
    "    # Lemmatization\n",
    "    lemmatizer = WordNetLemmatizer()\n",
    "    tokens = [lemmatizer.lemmatize(token) for token in tokens]\n",
    "    \n",
    "    # Join tokens back into text\n",
    "    preprocessed_text = ' '.join(tokens)\n",
    "    \n",
    "    return preprocessed_text\n",
    "\n",
    "# Preprocess the text data\n",
    "df['Preprocessed_Prompt'] = df['Prompt'].apply(preprocess_text)\n",
    "\n",
    "# Tokenization and Padding\n",
    "maxlen = 100  # Maximum sequence length\n",
    "max_words = 10000  # Maximum number of words to consider as features\n",
    "\n",
    "tokenizer = Tokenizer(num_words=max_words)\n",
    "tokenizer.fit_on_texts(df['Preprocessed_Prompt'])\n",
    "sequences = tokenizer.texts_to_sequences(df['Preprocessed_Prompt'])\n",
    "\n",
    "word_index = tokenizer.word_index\n",
    "print('Found %s unique tokens.' % len(word_index))\n",
    "\n",
    "data = pad_sequences(sequences, maxlen=maxlen)\n",
    "\n",
    "# Encode the labels\n",
    "label_encoder = LabelEncoder()\n",
    "labels = label_encoder.fit_transform(df['Risk Level'])\n",
    "labels = to_categorical(labels)  # Convert to one-hot encoding\n",
    "\n",
    "# Split the data into training and testing sets\n",
    "X_train, X_test, y_train, y_test = train_test_split(data, labels, test_size=0.2, random_state=42)\n",
    "\n",
    "# Oversample the minority classes\n",
    "oversampler = RandomOverSampler()\n",
    "X_train_resampled, y_train_resampled = oversampler.fit_resample(X_train, y_train)\n",
    "\n",
    "# Define the model\n",
    "model = Sequential()\n",
    "model.add(Embedding(max_words, 128, input_length=maxlen))\n",
    "model.add(SpatialDropout1D(0.2))\n",
    "model.add(Bidirectional(LSTM(128, dropout=0.2, recurrent_dropout=0.2)))\n",
    "model.add(Dense(64, activation='relu'))\n",
    "model.add(Dropout(0.5))\n",
    "model.add(Dense(4, activation='softmax'))\n",
    "\n",
    "# Compile the model\n",
    "optimizer = Adam(lr=0.001)\n",
    "model.compile(optimizer=optimizer, loss='categorical_crossentropy', metrics=['accuracy'])\n",
    "\n",
    "# Print model summary\n",
    "model.summary()\n",
    "\n",
    "# Train the model on the resampled data\n",
    "history = model.fit(X_train_resampled, y_train_resampled,\n",
    "                    epochs=20,\n",
    "                    batch_size=32,\n",
    "                    validation_data=(X_test, y_test),\n",
    "                    verbose=2)\n",
    "\n",
    "# Evaluate the model\n",
    "loss, accuracy = model.evaluate(X_test, y_test)\n",
    "print(\"Test Accuracy:\", accuracy)\n",
    "print(\"Test Loss:\", loss)\n",
    "\n",
    "# Generate predictions\n",
    "y_pred_prob = model.predict(X_test)\n",
    "y_pred = np.argmax(y_pred_prob, axis=1)\n",
    "print(\"Classification Report:\\n\", classification_report(np.argmax(y_test, axis=1), y_pred))\n"
   ]
  },
  {
   "cell_type": "code",
   "execution_count": 5,
   "id": "237d9db6",
   "metadata": {},
   "outputs": [
    {
     "name": "stdout",
     "output_type": "stream",
     "text": [
      "1/1 [==============================] - 0s 93ms/step\n",
      "Predicted Risk Level: High\n",
      "Prediction Probabilities: [[9.9999952e-01 1.8999774e-10 4.2904315e-07 8.1562040e-12]]\n"
     ]
    }
   ],
   "source": [
    "# Define a function to test a prompt\n",
    "def test_prompt(prompt):\n",
    "    # Preprocess the prompt\n",
    "    preprocessed_prompt = preprocess_text(prompt)\n",
    "    \n",
    "    # Tokenize and pad the preprocessed prompt\n",
    "    sequence = tokenizer.texts_to_sequences([preprocessed_prompt])\n",
    "    padded_sequence = pad_sequences(sequence, maxlen=maxlen)\n",
    "    \n",
    "    # Use the trained model to predict the risk level\n",
    "    prediction_prob = model.predict(padded_sequence)\n",
    "    predicted_class = np.argmax(prediction_prob)\n",
    "    \n",
    "    # Decode the predicted class using the label encoder\n",
    "    predicted_label = label_encoder.classes_[predicted_class]\n",
    "    \n",
    "    return predicted_label, prediction_prob\n",
    "\n",
    "# Example prompt\n",
    "prompt = \"I have severe abdominal pain\"\n",
    "\n",
    "# Test the prompt\n",
    "predicted_label, prediction_prob = test_prompt(prompt)\n",
    "print(\"Predicted Risk Level:\", predicted_label)\n",
    "print(\"Prediction Probabilities:\", prediction_prob)\n"
   ]
  },
  {
   "cell_type": "code",
   "execution_count": 6,
   "id": "bb278e77",
   "metadata": {},
   "outputs": [],
   "source": [
    "import pickle\n",
    "\n",
    "# Save the tokenizer\n",
    "with open('tokenizer.pickle', 'wb') as handle:\n",
    "    pickle.dump(tokenizer, handle, protocol=pickle.HIGHEST_PROTOCOL)"
   ]
  },
  {
   "cell_type": "code",
   "execution_count": 7,
   "id": "604568c7",
   "metadata": {},
   "outputs": [],
   "source": [
    "model.save('my_model.keras')"
   ]
  }
 ],
 "metadata": {
  "kernelspec": {
   "display_name": "Python 3 (ipykernel)",
   "language": "python",
   "name": "python3"
  },
  "language_info": {
   "codemirror_mode": {
    "name": "ipython",
    "version": 3
   },
   "file_extension": ".py",
   "mimetype": "text/x-python",
   "name": "python",
   "nbconvert_exporter": "python",
   "pygments_lexer": "ipython3",
   "version": "3.11.3"
  }
 },
 "nbformat": 4,
 "nbformat_minor": 5
}
